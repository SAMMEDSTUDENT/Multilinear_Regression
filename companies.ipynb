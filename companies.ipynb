{
  "nbformat": 4,
  "nbformat_minor": 0,
  "metadata": {
    "colab": {
      "name": "companies.ipynb",
      "private_outputs": true,
      "provenance": [],
      "collapsed_sections": [],
      "authorship_tag": "ABX9TyN8B5LWQHnE3GSmP5tA+ch3",
      "include_colab_link": true
    },
    "kernelspec": {
      "name": "python3",
      "display_name": "Python 3"
    },
    "language_info": {
      "name": "python"
    }
  },
  "cells": [
    {
      "cell_type": "markdown",
      "metadata": {
        "id": "view-in-github",
        "colab_type": "text"
      },
      "source": [
        "<a href=\"https://colab.research.google.com/github/SAMMEDSTUDENT/Linear_Regression/blob/main/companies.ipynb\" target=\"_parent\"><img src=\"https://colab.research.google.com/assets/colab-badge.svg\" alt=\"Open In Colab\"/></a>"
      ]
    },
    {
      "cell_type": "code",
      "source": [
        "# Importing the libraries\n",
        "import numpy as np\n",
        "import pandas as pd\n",
        "import matplotlib.pyplot as plt\n",
        "import seaborn as sns\n",
        "%matplotlib inline"
      ],
      "metadata": {
        "id": "qqW5Y6UHRPPT"
      },
      "execution_count": null,
      "outputs": []
    },
    {
      "cell_type": "code",
      "source": [
        "# Getting the datasheet from companies\n",
        "companies=pd.read_csv('/content/1000_Companies.csv')"
      ],
      "metadata": {
        "id": "Rq4gEws6Rp4M"
      },
      "execution_count": null,
      "outputs": []
    },
    {
      "cell_type": "code",
      "source": [
        "# Assigning the X and Y from datasheet\n",
        "X=companies.iloc[:,:-1].values\n",
        "y=companies.iloc[:,4].values\n",
        "companies.head()\n",
        "print(X,y)"
      ],
      "metadata": {
        "id": "zEpdtZoGTVAz"
      },
      "execution_count": null,
      "outputs": []
    },
    {
      "cell_type": "code",
      "source": [
        "#data visualisation\n",
        "#building the correlation matrix\n",
        "sns.heatmap(companies.corr())"
      ],
      "metadata": {
        "id": "EZ3UBiOpZ4dX"
      },
      "execution_count": null,
      "outputs": []
    },
    {
      "cell_type": "code",
      "source": [
        "# Encoding categorical data\n",
        "from sklearn.preprocessing import LabelEncoder,OneHotEncoder\n",
        "labelencoder=LabelEncoder()\n",
        "X[:,3]=labelencoder.fit_transform(X[:,3])\n",
        "\n",
        "onehotencoder=OneHotEncoder(sparse=False)\n",
        "X=onehotencoder.fit_transform(companies[['State']])[:]\n",
        "print(X[0])\n",
        "\n",
        "X=X[:,1:]"
      ],
      "metadata": {
        "id": "qjPn7PABUJzw"
      },
      "execution_count": null,
      "outputs": []
    },
    {
      "cell_type": "code",
      "source": [
        "# Splitting the dataset into train and test\n",
        "from sklearn.model_selection import train_test_split\n",
        "X_train,X_test,y_train,y_test=train_test_split(X,y,test_size=0.2,random_state=0)"
      ],
      "metadata": {
        "id": "p4FE8AJhYyoB"
      },
      "execution_count": null,
      "outputs": []
    },
    {
      "cell_type": "code",
      "source": [
        "# Fitting the Multiple Linear Regression model to the training set\n",
        "from sklearn.linear_model import LinearRegression\n",
        "reg=LinearRegression()\n",
        "reg=reg.fit(X_train,y_train)\n",
        "reg.fit(X_train,y_train)"
      ],
      "metadata": {
        "id": "sdQ5B1Ypai9g"
      },
      "execution_count": null,
      "outputs": []
    },
    {
      "cell_type": "code",
      "source": [
        "# Predicting the test set results\n",
        "y_pred=reg.predict(X_test)\n",
        "print(y_pred)"
      ],
      "metadata": {
        "id": "S4tSbz9Pbwe8"
      },
      "execution_count": null,
      "outputs": []
    },
    {
      "cell_type": "code",
      "source": [
        "# Calculating the coefiicients\n",
        "print(reg.coef_)\n",
        "\n",
        "# Calculating the intercept\n",
        "print(reg.intercept_)"
      ],
      "metadata": {
        "id": "KdVz2p60cHWp"
      },
      "execution_count": null,
      "outputs": []
    },
    {
      "cell_type": "code",
      "source": [
        "# Testing the model\n",
        "# Calculating the R^2 value\n",
        "from sklearn.metrics import r2_score\n",
        "r2_score(y_test,y_pred)"
      ],
      "metadata": {
        "id": "GzIp-x9CcjZg"
      },
      "execution_count": null,
      "outputs": []
    }
  ]
}